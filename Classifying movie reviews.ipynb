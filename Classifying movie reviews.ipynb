{
 "cells": [
  {
   "cell_type": "code",
   "execution_count": 6,
   "id": "66c49a6e",
   "metadata": {},
   "outputs": [],
   "source": [
    "import tensorflow as tf"
   ]
  },
  {
   "cell_type": "code",
   "execution_count": 8,
   "id": "dfe01e4c",
   "metadata": {},
   "outputs": [],
   "source": [
    "from tensorflow import keras"
   ]
  },
  {
   "cell_type": "code",
   "execution_count": 9,
   "id": "d762b11a",
   "metadata": {},
   "outputs": [
    {
     "data": {
      "text/plain": [
       "'2.5.0'"
      ]
     },
     "execution_count": 9,
     "metadata": {},
     "output_type": "execute_result"
    }
   ],
   "source": [
    "keras.__version__"
   ]
  },
  {
   "cell_type": "code",
   "execution_count": 10,
   "id": "578d8431",
   "metadata": {},
   "outputs": [],
   "source": [
    "from keras.datasets import imdb"
   ]
  },
  {
   "cell_type": "code",
   "execution_count": 11,
   "id": "2f75ee90",
   "metadata": {},
   "outputs": [
    {
     "name": "stderr",
     "output_type": "stream",
     "text": [
      "<string>:6: VisibleDeprecationWarning: Creating an ndarray from ragged nested sequences (which is a list-or-tuple of lists-or-tuples-or ndarrays with different lengths or shapes) is deprecated. If you meant to do this, you must specify 'dtype=object' when creating the ndarray\n",
      "C:\\Users\\shoha\\Anaconda3\\envs\\MLDL\\lib\\site-packages\\tensorflow\\python\\keras\\datasets\\imdb.py:155: VisibleDeprecationWarning: Creating an ndarray from ragged nested sequences (which is a list-or-tuple of lists-or-tuples-or ndarrays with different lengths or shapes) is deprecated. If you meant to do this, you must specify 'dtype=object' when creating the ndarray\n",
      "  x_train, y_train = np.array(xs[:idx]), np.array(labels[:idx])\n",
      "C:\\Users\\shoha\\Anaconda3\\envs\\MLDL\\lib\\site-packages\\tensorflow\\python\\keras\\datasets\\imdb.py:156: VisibleDeprecationWarning: Creating an ndarray from ragged nested sequences (which is a list-or-tuple of lists-or-tuples-or ndarrays with different lengths or shapes) is deprecated. If you meant to do this, you must specify 'dtype=object' when creating the ndarray\n",
      "  x_test, y_test = np.array(xs[idx:]), np.array(labels[idx:])\n"
     ]
    }
   ],
   "source": [
    "(train_data,train_labels),(test_data,test_labels)=imdb.load_data(num_words=10000)"
   ]
  },
  {
   "cell_type": "code",
   "execution_count": 13,
   "id": "6d8d84fa",
   "metadata": {},
   "outputs": [
    {
     "data": {
      "text/plain": [
       "(25000,)"
      ]
     },
     "execution_count": 13,
     "metadata": {},
     "output_type": "execute_result"
    }
   ],
   "source": [
    "train_data.shape"
   ]
  },
  {
   "cell_type": "code",
   "execution_count": 14,
   "id": "c9b97060",
   "metadata": {},
   "outputs": [
    {
     "data": {
      "text/plain": [
       "25000"
      ]
     },
     "execution_count": 14,
     "metadata": {},
     "output_type": "execute_result"
    }
   ],
   "source": [
    "len(train_data)"
   ]
  },
  {
   "cell_type": "code",
   "execution_count": 15,
   "id": "f1f90c1f",
   "metadata": {},
   "outputs": [
    {
     "data": {
      "text/plain": [
       "[1,\n",
       " 14,\n",
       " 22,\n",
       " 16,\n",
       " 43,\n",
       " 530,\n",
       " 973,\n",
       " 1622,\n",
       " 1385,\n",
       " 65,\n",
       " 458,\n",
       " 4468,\n",
       " 66,\n",
       " 3941,\n",
       " 4,\n",
       " 173,\n",
       " 36,\n",
       " 256,\n",
       " 5,\n",
       " 25,\n",
       " 100,\n",
       " 43,\n",
       " 838,\n",
       " 112,\n",
       " 50,\n",
       " 670,\n",
       " 2,\n",
       " 9,\n",
       " 35,\n",
       " 480,\n",
       " 284,\n",
       " 5,\n",
       " 150,\n",
       " 4,\n",
       " 172,\n",
       " 112,\n",
       " 167,\n",
       " 2,\n",
       " 336,\n",
       " 385,\n",
       " 39,\n",
       " 4,\n",
       " 172,\n",
       " 4536,\n",
       " 1111,\n",
       " 17,\n",
       " 546,\n",
       " 38,\n",
       " 13,\n",
       " 447,\n",
       " 4,\n",
       " 192,\n",
       " 50,\n",
       " 16,\n",
       " 6,\n",
       " 147,\n",
       " 2025,\n",
       " 19,\n",
       " 14,\n",
       " 22,\n",
       " 4,\n",
       " 1920,\n",
       " 4613,\n",
       " 469,\n",
       " 4,\n",
       " 22,\n",
       " 71,\n",
       " 87,\n",
       " 12,\n",
       " 16,\n",
       " 43,\n",
       " 530,\n",
       " 38,\n",
       " 76,\n",
       " 15,\n",
       " 13,\n",
       " 1247,\n",
       " 4,\n",
       " 22,\n",
       " 17,\n",
       " 515,\n",
       " 17,\n",
       " 12,\n",
       " 16,\n",
       " 626,\n",
       " 18,\n",
       " 2,\n",
       " 5,\n",
       " 62,\n",
       " 386,\n",
       " 12,\n",
       " 8,\n",
       " 316,\n",
       " 8,\n",
       " 106,\n",
       " 5,\n",
       " 4,\n",
       " 2223,\n",
       " 5244,\n",
       " 16,\n",
       " 480,\n",
       " 66,\n",
       " 3785,\n",
       " 33,\n",
       " 4,\n",
       " 130,\n",
       " 12,\n",
       " 16,\n",
       " 38,\n",
       " 619,\n",
       " 5,\n",
       " 25,\n",
       " 124,\n",
       " 51,\n",
       " 36,\n",
       " 135,\n",
       " 48,\n",
       " 25,\n",
       " 1415,\n",
       " 33,\n",
       " 6,\n",
       " 22,\n",
       " 12,\n",
       " 215,\n",
       " 28,\n",
       " 77,\n",
       " 52,\n",
       " 5,\n",
       " 14,\n",
       " 407,\n",
       " 16,\n",
       " 82,\n",
       " 2,\n",
       " 8,\n",
       " 4,\n",
       " 107,\n",
       " 117,\n",
       " 5952,\n",
       " 15,\n",
       " 256,\n",
       " 4,\n",
       " 2,\n",
       " 7,\n",
       " 3766,\n",
       " 5,\n",
       " 723,\n",
       " 36,\n",
       " 71,\n",
       " 43,\n",
       " 530,\n",
       " 476,\n",
       " 26,\n",
       " 400,\n",
       " 317,\n",
       " 46,\n",
       " 7,\n",
       " 4,\n",
       " 2,\n",
       " 1029,\n",
       " 13,\n",
       " 104,\n",
       " 88,\n",
       " 4,\n",
       " 381,\n",
       " 15,\n",
       " 297,\n",
       " 98,\n",
       " 32,\n",
       " 2071,\n",
       " 56,\n",
       " 26,\n",
       " 141,\n",
       " 6,\n",
       " 194,\n",
       " 7486,\n",
       " 18,\n",
       " 4,\n",
       " 226,\n",
       " 22,\n",
       " 21,\n",
       " 134,\n",
       " 476,\n",
       " 26,\n",
       " 480,\n",
       " 5,\n",
       " 144,\n",
       " 30,\n",
       " 5535,\n",
       " 18,\n",
       " 51,\n",
       " 36,\n",
       " 28,\n",
       " 224,\n",
       " 92,\n",
       " 25,\n",
       " 104,\n",
       " 4,\n",
       " 226,\n",
       " 65,\n",
       " 16,\n",
       " 38,\n",
       " 1334,\n",
       " 88,\n",
       " 12,\n",
       " 16,\n",
       " 283,\n",
       " 5,\n",
       " 16,\n",
       " 4472,\n",
       " 113,\n",
       " 103,\n",
       " 32,\n",
       " 15,\n",
       " 16,\n",
       " 5345,\n",
       " 19,\n",
       " 178,\n",
       " 32]"
      ]
     },
     "execution_count": 15,
     "metadata": {},
     "output_type": "execute_result"
    }
   ],
   "source": [
    "train_data[0]"
   ]
  },
  {
   "cell_type": "code",
   "execution_count": 18,
   "id": "0948df6f",
   "metadata": {},
   "outputs": [
    {
     "name": "stdout",
     "output_type": "stream",
     "text": [
      "Label 0 1\n",
      "Label 1 0\n",
      "Label 2 0\n",
      "Label 3 1\n",
      "Label 4 0\n",
      "Label 5 0\n",
      "Label 6 1\n",
      "Label 7 0\n",
      "Label 8 1\n",
      "Label 9 0\n"
     ]
    }
   ],
   "source": [
    "for i in range(10):    \n",
    "    print('Label',i,train_labels[i])"
   ]
  },
  {
   "cell_type": "code",
   "execution_count": 23,
   "id": "c3714b3d",
   "metadata": {},
   "outputs": [
    {
     "data": {
      "text/plain": [
       "9999"
      ]
     },
     "execution_count": 23,
     "metadata": {},
     "output_type": "execute_result"
    }
   ],
   "source": [
    "max(max(s) for s in train_data)"
   ]
  },
  {
   "cell_type": "code",
   "execution_count": 25,
   "id": "f7711246",
   "metadata": {},
   "outputs": [],
   "source": [
    "word_index=imdb.get_word_index()"
   ]
  },
  {
   "cell_type": "code",
   "execution_count": 26,
   "id": "f2bf000a",
   "metadata": {},
   "outputs": [],
   "source": [
    "reverse_word_index=dict([(v,k) for (k,v) in word_index.items()])"
   ]
  },
  {
   "cell_type": "code",
   "execution_count": 27,
   "id": "65b0c196",
   "metadata": {},
   "outputs": [],
   "source": [
    "decoded_review=' '.join([reverse_word_index.get(i-3,'?') for i in train_data[0]])"
   ]
  },
  {
   "cell_type": "code",
   "execution_count": 28,
   "id": "9db57149",
   "metadata": {},
   "outputs": [
    {
     "data": {
      "text/plain": [
       "\"? this film was just brilliant casting location scenery story direction everyone's really suited the part they played and you could just imagine being there robert ? is an amazing actor and now the same being director ? father came from the same scottish island as myself so i loved the fact there was a real connection with this film the witty remarks throughout the film were great it was just brilliant so much that i bought the film as soon as it was released for ? and would recommend it to everyone to watch and the fly fishing was amazing really cried at the end it was so sad and you know what they say if you cry at a film it must have been good and this definitely was also ? to the two little boy's that played the ? of norman and paul they were just brilliant children are often left out of the ? list i think because the stars that play them all grown up are such a big profile for the whole film but these children are amazing and should be praised for what they have done don't you think the whole story was so lovely because it was true and was someone's life after all that was shared with us all\""
      ]
     },
     "execution_count": 28,
     "metadata": {},
     "output_type": "execute_result"
    }
   ],
   "source": [
    "decoded_review"
   ]
  },
  {
   "cell_type": "code",
   "execution_count": 31,
   "id": "d3ae1672",
   "metadata": {},
   "outputs": [],
   "source": [
    "decoded_review2=' '.join([reverse_word_index.get(i-3,'?') for i in train_data[5]])"
   ]
  },
  {
   "cell_type": "code",
   "execution_count": 32,
   "id": "e41a18c8",
   "metadata": {},
   "outputs": [
    {
     "name": "stdout",
     "output_type": "stream",
     "text": [
      "? begins better than it ends funny that the russian submarine crew ? all other actors it's like those scenes where documentary shots br br spoiler part the message ? was contrary to the whole story it just does not ? br br\n"
     ]
    }
   ],
   "source": [
    "print(decoded_review2)"
   ]
  },
  {
   "cell_type": "code",
   "execution_count": 34,
   "id": "4e523537",
   "metadata": {},
   "outputs": [],
   "source": [
    "import numpy as np\n",
    "\n",
    "def vectorize_sequences(sequences, dimension=10000):\n",
    "    results = np.zeros((len(sequences), dimension))\n",
    "    for i, sequence in enumerate(sequences):\n",
    "        results[i, sequence] = 1\n",
    "    return results\n"
   ]
  },
  {
   "cell_type": "code",
   "execution_count": 37,
   "id": "a6272851",
   "metadata": {},
   "outputs": [],
   "source": [
    "x_train=vectorize_sequences(train_data)\n",
    "x_test=vectorize_sequences(test_data)"
   ]
  },
  {
   "cell_type": "code",
   "execution_count": 38,
   "id": "3fc25e33",
   "metadata": {},
   "outputs": [
    {
     "data": {
      "text/plain": [
       "array([0., 1., 1., ..., 0., 0., 0.])"
      ]
     },
     "execution_count": 38,
     "metadata": {},
     "output_type": "execute_result"
    }
   ],
   "source": [
    "x_train[9]"
   ]
  },
  {
   "cell_type": "code",
   "execution_count": 39,
   "id": "e0dec3b2",
   "metadata": {},
   "outputs": [],
   "source": [
    "y_train=np.asarray(train_labels).astype('float32')\n",
    "y_test=np.asarray(test_labels).astype('float32')"
   ]
  },
  {
   "cell_type": "code",
   "execution_count": 41,
   "id": "5f17569a",
   "metadata": {},
   "outputs": [],
   "source": [
    "from tensorflow.keras import models\n",
    "from tensorflow.keras import layers"
   ]
  },
  {
   "cell_type": "code",
   "execution_count": 42,
   "id": "309dffd3",
   "metadata": {},
   "outputs": [],
   "source": [
    "model=models.Sequential()\n",
    "model.add(layers.Dense(16,activation='relu',input_shape=(10000,)))\n",
    "model.add(layers.Dense(16,activation='relu'))\n",
    "model.add(layers.Dense(1,activation='sigmoid'))"
   ]
  },
  {
   "cell_type": "code",
   "execution_count": 44,
   "id": "95babf5b",
   "metadata": {},
   "outputs": [],
   "source": [
    "model.compile(optimizer='rmsprop',\n",
    "              loss='binary_crossentropy',\n",
    "              metrics=['accuracy'])"
   ]
  },
  {
   "cell_type": "code",
   "execution_count": 55,
   "id": "953fc262",
   "metadata": {},
   "outputs": [],
   "source": [
    "from tensorflow.keras import optimizers\n",
    "model.compile(optimizer=optimizers.RMSprop(learning_rate=0.001),\n",
    "              loss='binary_crossentropy',\n",
    "              metrics=['accuracy'])"
   ]
  },
  {
   "cell_type": "code",
   "execution_count": 56,
   "id": "47e06f60",
   "metadata": {},
   "outputs": [],
   "source": [
    "x_val = x_train[:10000]\n",
    "partial_x_train = x_train[10000:]\n",
    "\n",
    "y_val = y_train[:10000]\n",
    "partial_y_train = y_train[10000:]"
   ]
  },
  {
   "cell_type": "code",
   "execution_count": 57,
   "id": "77ca1fd1",
   "metadata": {},
   "outputs": [
    {
     "name": "stdout",
     "output_type": "stream",
     "text": [
      "Epoch 1/30\n",
      "30/30 [==============================] - 3s 37ms/step - loss: 0.5347 - accuracy: 0.7975 - val_loss: 0.4111 - val_accuracy: 0.8670\n",
      "Epoch 2/30\n",
      "30/30 [==============================] - 1s 22ms/step - loss: 0.3302 - accuracy: 0.8969 - val_loss: 0.3220 - val_accuracy: 0.8807\n",
      "Epoch 3/30\n",
      "30/30 [==============================] - 1s 22ms/step - loss: 0.2414 - accuracy: 0.9227 - val_loss: 0.2834 - val_accuracy: 0.8882\n",
      "Epoch 4/30\n",
      "30/30 [==============================] - 1s 22ms/step - loss: 0.1913 - accuracy: 0.9379 - val_loss: 0.2722 - val_accuracy: 0.8908\n",
      "Epoch 5/30\n",
      "30/30 [==============================] - 1s 23ms/step - loss: 0.1565 - accuracy: 0.9503 - val_loss: 0.2766 - val_accuracy: 0.8879\n",
      "Epoch 6/30\n",
      "30/30 [==============================] - 1s 22ms/step - loss: 0.1292 - accuracy: 0.9603 - val_loss: 0.2848 - val_accuracy: 0.8860\n",
      "Epoch 7/30\n",
      "30/30 [==============================] - 1s 23ms/step - loss: 0.1105 - accuracy: 0.9667 - val_loss: 0.2971 - val_accuracy: 0.8864\n",
      "Epoch 8/30\n",
      "30/30 [==============================] - 1s 22ms/step - loss: 0.0907 - accuracy: 0.9729 - val_loss: 0.3146 - val_accuracy: 0.8846\n",
      "Epoch 9/30\n",
      "30/30 [==============================] - 1s 22ms/step - loss: 0.0754 - accuracy: 0.9800 - val_loss: 0.3479 - val_accuracy: 0.8768\n",
      "Epoch 10/30\n",
      "30/30 [==============================] - 1s 22ms/step - loss: 0.0650 - accuracy: 0.9823 - val_loss: 0.3861 - val_accuracy: 0.8751\n",
      "Epoch 11/30\n",
      "30/30 [==============================] - 1s 23ms/step - loss: 0.0529 - accuracy: 0.9874 - val_loss: 0.3891 - val_accuracy: 0.8768\n",
      "Epoch 12/30\n",
      "30/30 [==============================] - 1s 24ms/step - loss: 0.0438 - accuracy: 0.9899 - val_loss: 0.4124 - val_accuracy: 0.8774\n",
      "Epoch 13/30\n",
      "30/30 [==============================] - 1s 24ms/step - loss: 0.0361 - accuracy: 0.9928 - val_loss: 0.4358 - val_accuracy: 0.8749\n",
      "Epoch 14/30\n",
      "30/30 [==============================] - 1s 24ms/step - loss: 0.0291 - accuracy: 0.9938 - val_loss: 0.4796 - val_accuracy: 0.8737\n",
      "Epoch 15/30\n",
      "30/30 [==============================] - 1s 24ms/step - loss: 0.0230 - accuracy: 0.9963 - val_loss: 0.4970 - val_accuracy: 0.8713\n",
      "Epoch 16/30\n",
      "30/30 [==============================] - 1s 23ms/step - loss: 0.0170 - accuracy: 0.9975 - val_loss: 0.5493 - val_accuracy: 0.8651\n",
      "Epoch 17/30\n",
      "30/30 [==============================] - 1s 22ms/step - loss: 0.0154 - accuracy: 0.9975 - val_loss: 0.5678 - val_accuracy: 0.8705\n",
      "Epoch 18/30\n",
      "30/30 [==============================] - 1s 24ms/step - loss: 0.0128 - accuracy: 0.9979 - val_loss: 0.6000 - val_accuracy: 0.8693\n",
      "Epoch 19/30\n",
      "30/30 [==============================] - 1s 24ms/step - loss: 0.0077 - accuracy: 0.9997 - val_loss: 0.6858 - val_accuracy: 0.8577\n",
      "Epoch 20/30\n",
      "30/30 [==============================] - 1s 22ms/step - loss: 0.0070 - accuracy: 0.9995 - val_loss: 0.6784 - val_accuracy: 0.8645\n",
      "Epoch 21/30\n",
      "30/30 [==============================] - 1s 22ms/step - loss: 0.0043 - accuracy: 0.9998 - val_loss: 0.7398 - val_accuracy: 0.8590\n",
      "Epoch 22/30\n",
      "30/30 [==============================] - 1s 23ms/step - loss: 0.0065 - accuracy: 0.9990 - val_loss: 0.7450 - val_accuracy: 0.8644\n",
      "Epoch 23/30\n",
      "30/30 [==============================] - 1s 23ms/step - loss: 0.0024 - accuracy: 0.9999 - val_loss: 0.7766 - val_accuracy: 0.8632\n",
      "Epoch 24/30\n",
      "30/30 [==============================] - 1s 24ms/step - loss: 0.0034 - accuracy: 0.9997 - val_loss: 0.8210 - val_accuracy: 0.8631\n",
      "Epoch 25/30\n",
      "30/30 [==============================] - 1s 22ms/step - loss: 0.0015 - accuracy: 0.9999 - val_loss: 0.8663 - val_accuracy: 0.8637\n",
      "Epoch 26/30\n",
      "30/30 [==============================] - 1s 24ms/step - loss: 0.0025 - accuracy: 0.9997 - val_loss: 0.8916 - val_accuracy: 0.8623\n",
      "Epoch 27/30\n",
      "30/30 [==============================] - 1s 24ms/step - loss: 8.9681e-04 - accuracy: 0.9999 - val_loss: 0.9279 - val_accuracy: 0.8618\n",
      "Epoch 28/30\n",
      "30/30 [==============================] - 1s 25ms/step - loss: 0.0031 - accuracy: 0.9993 - val_loss: 0.9680 - val_accuracy: 0.8616\n",
      "Epoch 29/30\n",
      "30/30 [==============================] - 1s 23ms/step - loss: 4.9362e-04 - accuracy: 1.0000 - val_loss: 0.9853 - val_accuracy: 0.8610\n",
      "Epoch 30/30\n",
      "30/30 [==============================] - 1s 21ms/step - loss: 4.1125e-04 - accuracy: 1.0000 - val_loss: 1.0306 - val_accuracy: 0.8607\n"
     ]
    }
   ],
   "source": [
    "history=model.fit(partial_x_train,\n",
    "                  partial_y_train,\n",
    "                  epochs=30,\n",
    "                  batch_size=512,\n",
    "                  validation_data=(x_val,y_val))"
   ]
  },
  {
   "cell_type": "code",
   "execution_count": 58,
   "id": "59b068e4",
   "metadata": {},
   "outputs": [
    {
     "name": "stdout",
     "output_type": "stream",
     "text": [
      "Epoch 1/50\n",
      "15/15 [==============================] - 1s 57ms/step - loss: 2.8392e-04 - accuracy: 1.0000 - val_loss: 1.0706 - val_accuracy: 0.8578\n",
      "Epoch 2/50\n",
      "15/15 [==============================] - 1s 37ms/step - loss: 0.0059 - accuracy: 0.9985 - val_loss: 1.0893 - val_accuracy: 0.8601\n",
      "Epoch 3/50\n",
      "15/15 [==============================] - 1s 36ms/step - loss: 2.1251e-04 - accuracy: 1.0000 - val_loss: 1.0866 - val_accuracy: 0.8610\n",
      "Epoch 4/50\n",
      "15/15 [==============================] - 1s 37ms/step - loss: 1.7981e-04 - accuracy: 1.0000 - val_loss: 1.0928 - val_accuracy: 0.8603\n",
      "Epoch 5/50\n",
      "15/15 [==============================] - 1s 36ms/step - loss: 1.6380e-04 - accuracy: 1.0000 - val_loss: 1.1016 - val_accuracy: 0.8601\n",
      "Epoch 6/50\n",
      "15/15 [==============================] - 1s 35ms/step - loss: 1.4756e-04 - accuracy: 1.0000 - val_loss: 1.1158 - val_accuracy: 0.8591\n",
      "Epoch 7/50\n",
      "15/15 [==============================] - 1s 37ms/step - loss: 1.2840e-04 - accuracy: 1.0000 - val_loss: 1.1384 - val_accuracy: 0.8592\n",
      "Epoch 8/50\n",
      "15/15 [==============================] - 1s 36ms/step - loss: 1.1028e-04 - accuracy: 1.0000 - val_loss: 1.1807 - val_accuracy: 0.8575\n",
      "Epoch 9/50\n",
      "15/15 [==============================] - 1s 37ms/step - loss: 0.0065 - accuracy: 0.9983 - val_loss: 1.2385 - val_accuracy: 0.8545\n",
      "Epoch 10/50\n",
      "15/15 [==============================] - 1s 37ms/step - loss: 1.3551e-04 - accuracy: 1.0000 - val_loss: 1.2094 - val_accuracy: 0.8575\n",
      "Epoch 11/50\n",
      "15/15 [==============================] - 1s 37ms/step - loss: 8.3345e-05 - accuracy: 1.0000 - val_loss: 1.2101 - val_accuracy: 0.8577\n",
      "Epoch 12/50\n",
      "15/15 [==============================] - 1s 37ms/step - loss: 7.0647e-05 - accuracy: 1.0000 - val_loss: 1.2153 - val_accuracy: 0.8567\n",
      "Epoch 13/50\n",
      "15/15 [==============================] - 1s 38ms/step - loss: 6.3065e-05 - accuracy: 1.0000 - val_loss: 1.2229 - val_accuracy: 0.8574\n",
      "Epoch 14/50\n",
      "15/15 [==============================] - 1s 39ms/step - loss: 5.7023e-05 - accuracy: 1.0000 - val_loss: 1.2336 - val_accuracy: 0.8574\n",
      "Epoch 15/50\n",
      "15/15 [==============================] - 1s 39ms/step - loss: 5.0987e-05 - accuracy: 1.0000 - val_loss: 1.2507 - val_accuracy: 0.8566\n",
      "Epoch 16/50\n",
      "15/15 [==============================] - 1s 38ms/step - loss: 4.4040e-05 - accuracy: 1.0000 - val_loss: 1.2751 - val_accuracy: 0.8571\n",
      "Epoch 17/50\n",
      "15/15 [==============================] - 1s 37ms/step - loss: 3.5466e-05 - accuracy: 1.0000 - val_loss: 1.3154 - val_accuracy: 0.8560\n",
      "Epoch 18/50\n",
      "15/15 [==============================] - 1s 37ms/step - loss: 0.0037 - accuracy: 0.9991 - val_loss: 1.3509 - val_accuracy: 0.8555\n",
      "Epoch 19/50\n",
      "15/15 [==============================] - 1s 36ms/step - loss: 3.3577e-05 - accuracy: 1.0000 - val_loss: 1.3469 - val_accuracy: 0.8556\n",
      "Epoch 20/50\n",
      "15/15 [==============================] - 1s 40ms/step - loss: 2.6996e-05 - accuracy: 1.0000 - val_loss: 1.3494 - val_accuracy: 0.8566\n",
      "Epoch 21/50\n",
      "15/15 [==============================] - 1s 40ms/step - loss: 2.4046e-05 - accuracy: 1.0000 - val_loss: 1.3537 - val_accuracy: 0.8564\n",
      "Epoch 22/50\n",
      "15/15 [==============================] - 1s 39ms/step - loss: 2.1923e-05 - accuracy: 1.0000 - val_loss: 1.3597 - val_accuracy: 0.8562\n",
      "Epoch 23/50\n",
      "15/15 [==============================] - 1s 40ms/step - loss: 2.0067e-05 - accuracy: 1.0000 - val_loss: 1.3688 - val_accuracy: 0.8562\n",
      "Epoch 24/50\n",
      "15/15 [==============================] - 1s 38ms/step - loss: 1.8157e-05 - accuracy: 1.0000 - val_loss: 1.3834 - val_accuracy: 0.8556\n",
      "Epoch 25/50\n",
      "15/15 [==============================] - 1s 39ms/step - loss: 1.5799e-05 - accuracy: 1.0000 - val_loss: 1.4050 - val_accuracy: 0.8567\n",
      "Epoch 26/50\n",
      "15/15 [==============================] - 1s 37ms/step - loss: 1.3020e-05 - accuracy: 1.0000 - val_loss: 1.4475 - val_accuracy: 0.8564\n",
      "Epoch 27/50\n",
      "15/15 [==============================] - 1s 40ms/step - loss: 0.0024 - accuracy: 0.9993 - val_loss: 1.4592 - val_accuracy: 0.8544\n",
      "Epoch 28/50\n",
      "15/15 [==============================] - 1s 38ms/step - loss: 1.9395e-05 - accuracy: 1.0000 - val_loss: 1.4520 - val_accuracy: 0.8562\n",
      "Epoch 29/50\n",
      "15/15 [==============================] - 1s 40ms/step - loss: 1.4342e-05 - accuracy: 1.0000 - val_loss: 1.4517 - val_accuracy: 0.8574\n",
      "Epoch 30/50\n",
      "15/15 [==============================] - 1s 38ms/step - loss: 1.1896e-05 - accuracy: 1.0000 - val_loss: 1.4547 - val_accuracy: 0.8574\n",
      "Epoch 31/50\n",
      "15/15 [==============================] - 1s 39ms/step - loss: 1.0450e-05 - accuracy: 1.0000 - val_loss: 1.4590 - val_accuracy: 0.8571\n",
      "Epoch 32/50\n",
      "15/15 [==============================] - 1s 36ms/step - loss: 9.4177e-06 - accuracy: 1.0000 - val_loss: 1.4658 - val_accuracy: 0.8571\n",
      "Epoch 33/50\n",
      "15/15 [==============================] - 1s 38ms/step - loss: 8.5128e-06 - accuracy: 1.0000 - val_loss: 1.4759 - val_accuracy: 0.8577\n",
      "Epoch 34/50\n",
      "15/15 [==============================] - 1s 39ms/step - loss: 7.5528e-06 - accuracy: 1.0000 - val_loss: 1.4931 - val_accuracy: 0.8577\n",
      "Epoch 35/50\n",
      "15/15 [==============================] - 1s 40ms/step - loss: 6.4042e-06 - accuracy: 1.0000 - val_loss: 1.5203 - val_accuracy: 0.8568\n",
      "Epoch 36/50\n",
      "15/15 [==============================] - 1s 38ms/step - loss: 5.3453e-06 - accuracy: 1.0000 - val_loss: 1.6053 - val_accuracy: 0.8543\n",
      "Epoch 37/50\n",
      "15/15 [==============================] - 1s 37ms/step - loss: 0.0019 - accuracy: 0.9993 - val_loss: 1.5654 - val_accuracy: 0.8572\n",
      "Epoch 38/50\n",
      "15/15 [==============================] - 1s 38ms/step - loss: 4.6226e-06 - accuracy: 1.0000 - val_loss: 1.5669 - val_accuracy: 0.8573\n",
      "Epoch 39/50\n",
      "15/15 [==============================] - 1s 41ms/step - loss: 4.3139e-06 - accuracy: 1.0000 - val_loss: 1.5693 - val_accuracy: 0.8572\n",
      "Epoch 40/50\n",
      "15/15 [==============================] - 1s 39ms/step - loss: 4.1012e-06 - accuracy: 1.0000 - val_loss: 1.5722 - val_accuracy: 0.8569\n",
      "Epoch 41/50\n",
      "15/15 [==============================] - 1s 38ms/step - loss: 3.9131e-06 - accuracy: 1.0000 - val_loss: 1.5757 - val_accuracy: 0.8566\n",
      "Epoch 42/50\n",
      "15/15 [==============================] - 1s 37ms/step - loss: 3.7237e-06 - accuracy: 1.0000 - val_loss: 1.5804 - val_accuracy: 0.8567\n",
      "Epoch 43/50\n",
      "15/15 [==============================] - 1s 38ms/step - loss: 3.5083e-06 - accuracy: 1.0000 - val_loss: 1.5878 - val_accuracy: 0.8565\n",
      "Epoch 44/50\n",
      "15/15 [==============================] - 1s 38ms/step - loss: 3.2468e-06 - accuracy: 1.0000 - val_loss: 1.5995 - val_accuracy: 0.8565\n",
      "Epoch 45/50\n",
      "15/15 [==============================] - 1s 39ms/step - loss: 2.8746e-06 - accuracy: 1.0000 - val_loss: 1.6191 - val_accuracy: 0.8565\n",
      "Epoch 46/50\n",
      "15/15 [==============================] - 1s 38ms/step - loss: 2.4133e-06 - accuracy: 1.0000 - val_loss: 1.6496 - val_accuracy: 0.8562\n",
      "Epoch 47/50\n",
      "15/15 [==============================] - 1s 39ms/step - loss: 0.0022 - accuracy: 0.9993 - val_loss: 1.6937 - val_accuracy: 0.8560\n",
      "Epoch 48/50\n",
      "15/15 [==============================] - 1s 38ms/step - loss: 4.3976e-06 - accuracy: 1.0000 - val_loss: 1.6849 - val_accuracy: 0.8568\n",
      "Epoch 49/50\n",
      "15/15 [==============================] - 1s 39ms/step - loss: 2.9157e-06 - accuracy: 1.0000 - val_loss: 1.6840 - val_accuracy: 0.8566\n",
      "Epoch 50/50\n",
      "15/15 [==============================] - 1s 35ms/step - loss: 2.4389e-06 - accuracy: 1.0000 - val_loss: 1.6853 - val_accuracy: 0.8570\n"
     ]
    }
   ],
   "source": [
    "history_2=model.fit(partial_x_train,\n",
    "                  partial_y_train,\n",
    "                  epochs=50,\n",
    "                  batch_size=1024,\n",
    "                  validation_data=(x_val,y_val))"
   ]
  },
  {
   "cell_type": "code",
   "execution_count": 59,
   "id": "ca8727bd",
   "metadata": {},
   "outputs": [
    {
     "data": {
      "text/plain": [
       "dict_keys(['loss', 'accuracy', 'val_loss', 'val_accuracy'])"
      ]
     },
     "execution_count": 59,
     "metadata": {},
     "output_type": "execute_result"
    }
   ],
   "source": [
    "history_dict=history.history\n",
    "history_dict.keys()"
   ]
  },
  {
   "cell_type": "code",
   "execution_count": 62,
   "id": "34241d7f",
   "metadata": {},
   "outputs": [],
   "source": [
    "import matplotlib.pyplot as plt\n",
    "\n",
    "acc=history.history['accuracy']\n",
    "val_acc=history.history['val_accuracy']\n",
    "loss=history.history['loss']\n",
    "val_loss=history.history['val_loss']\n",
    "epochs=range(1,len(acc)+1)"
   ]
  },
  {
   "cell_type": "code",
   "execution_count": 63,
   "id": "f333b37f",
   "metadata": {},
   "outputs": [
    {
     "data": {
      "text/plain": [
       "range(1, 31)"
      ]
     },
     "execution_count": 63,
     "metadata": {},
     "output_type": "execute_result"
    }
   ],
   "source": [
    "epochs"
   ]
  },
  {
   "cell_type": "code",
   "execution_count": 81,
   "id": "e0ccbf3d",
   "metadata": {},
   "outputs": [
    {
     "data": {
      "image/png": "[encoded data removed]",
      "text/plain": [
       "<Figure size 432x288 with 1 Axes>"
      ]
     },
     "metadata": {
      "needs_background": "light"
     },
     "output_type": "display_data"
    }
   ],
   "source": [
    "plt.plot(epochs,loss,'red',label='Training loss')\n",
    "plt.plot(epochs,val_loss,'indigo',label='Validation loss')\n",
    "plt.title('Training and Validation loss')\n",
    "plt.xlabel('Epochs')\n",
    "plt.ylabel('Loss')\n",
    "plt.legend(loc='center right')\n",
    "plt.show()"
   ]
  },
  {
   "cell_type": "code",
   "execution_count": 83,
   "id": "9592c576",
   "metadata": {},
   "outputs": [
    {
     "data": {
      "image/png": "[encoded data removed]",
      "text/plain": [
       "<Figure size 432x288 with 1 Axes>"
      ]
     },
     "metadata": {
      "needs_background": "light"
     },
     "output_type": "display_data"
    }
   ],
   "source": [
    "acc_values = history_dict['accuracy']\n",
    "val_acc_values = history_dict['val_accuracy']\n",
    "\n",
    "plt.plot(epochs, acc, 'bo', label='Training acc')\n",
    "plt.plot(epochs, val_acc, 'b', label='Validation acc')\n",
    "plt.title('Training and validation accuracy')\n",
    "plt.xlabel('Epochs')\n",
    "plt.ylabel('Loss')\n",
    "plt.legend()\n",
    "\n",
    "plt.show()"
   ]
  },
  {
   "cell_type": "code",
   "execution_count": 84,
   "id": "54ff58da",
   "metadata": {},
   "outputs": [
    {
     "name": "stdout",
     "output_type": "stream",
     "text": [
      "Epoch 1/4\n",
      "49/49 [==============================] - 1s 15ms/step - loss: 0.4174 - accuracy: 0.8275\n",
      "Epoch 2/4\n",
      "49/49 [==============================] - 1s 17ms/step - loss: 0.2294 - accuracy: 0.9143\n",
      "Epoch 3/4\n",
      "49/49 [==============================] - 1s 15ms/step - loss: 0.1758 - accuracy: 0.9346\n",
      "Epoch 4/4\n",
      "49/49 [==============================] - 1s 14ms/step - loss: 0.1497 - accuracy: 0.9453\n",
      "782/782 [==============================] - 3s 4ms/step - loss: 0.3224 - accuracy: 0.8780\n"
     ]
    }
   ],
   "source": [
    "model = models.Sequential()\n",
    "model.add(layers.Dense(16, activation='tanh', input_shape=(10000,)))\n",
    "model.add(layers.Dense(16, activation='tanh'))\n",
    "model.add(layers.Dense(1, activation='sigmoid'))\n",
    "\n",
    "model.compile(optimizer='rmsprop',\n",
    "              loss='binary_crossentropy',\n",
    "              metrics=['accuracy'])\n",
    "\n",
    "model.fit(x_train, y_train, epochs=4, batch_size=512)\n",
    "results = model.evaluate(x_test, y_test)"
   ]
  },
  {
   "cell_type": "code",
   "execution_count": 85,
   "id": "6536a2bd",
   "metadata": {},
   "outputs": [
    {
     "name": "stdout",
     "output_type": "stream",
     "text": [
      "Epoch 1/10\n",
      "49/49 [==============================] - 1s 15ms/step - loss: 0.1317 - accuracy: 0.8290\n",
      "Epoch 2/10\n",
      "49/49 [==============================] - 1s 18ms/step - loss: 0.0658 - accuracy: 0.9157\n",
      "Epoch 3/10\n",
      "49/49 [==============================] - 1s 17ms/step - loss: 0.0503 - accuracy: 0.9360\n",
      "Epoch 4/10\n",
      "49/49 [==============================] - 1s 16ms/step - loss: 0.0426 - accuracy: 0.9462\n",
      "Epoch 5/10\n",
      "49/49 [==============================] - 1s 16ms/step - loss: 0.0375 - accuracy: 0.9544\n",
      "Epoch 6/10\n",
      "49/49 [==============================] - 1s 15ms/step - loss: 0.0317 - accuracy: 0.9626\n",
      "Epoch 7/10\n",
      "49/49 [==============================] - 1s 15ms/step - loss: 0.0290 - accuracy: 0.9665\n",
      "Epoch 8/10\n",
      "49/49 [==============================] - 1s 17ms/step - loss: 0.0264 - accuracy: 0.9692\n",
      "Epoch 9/10\n",
      "49/49 [==============================] - 1s 16ms/step - loss: 0.0241 - accuracy: 0.9720\n",
      "Epoch 10/10\n",
      "49/49 [==============================] - 1s 15ms/step - loss: 0.0233 - accuracy: 0.9730\n",
      "782/782 [==============================] - 3s 3ms/step - loss: 0.1171 - accuracy: 0.8643\n"
     ]
    }
   ],
   "source": [
    "model = models.Sequential()\n",
    "model.add(layers.Dense(16, activation='tanh', input_shape=(10000,)))\n",
    "model.add(layers.Dense(16, activation='tanh'))\n",
    "model.add(layers.Dense(16, activation='tanh'))\n",
    "model.add(layers.Dense(1, activation='sigmoid'))\n",
    "\n",
    "model.compile(optimizer='rmsprop',\n",
    "              loss='mse',\n",
    "              metrics=['accuracy'])\n",
    "\n",
    "model.fit(x_train, y_train, epochs=10, batch_size=512)\n",
    "results = model.evaluate(x_test, y_test)"
   ]
  },
  {
   "cell_type": "code",
   "execution_count": 86,
   "id": "1d14466c",
   "metadata": {},
   "outputs": [
    {
     "data": {
      "text/plain": [
       "array([[0.00968242],\n",
       "       [0.9981704 ],\n",
       "       [0.9583839 ],\n",
       "       ...,\n",
       "       [0.13141853],\n",
       "       [0.00354376],\n",
       "       [0.7121098 ]], dtype=float32)"
      ]
     },
     "execution_count": 86,
     "metadata": {},
     "output_type": "execute_result"
    }
   ],
   "source": [
    "model.predict(x_test)"
   ]
  },
  {
   "cell_type": "code",
   "execution_count": null,
   "id": "d8cf592c",
   "metadata": {},
   "outputs": [],
   "source": []
  }
 ],
 "metadata": {
  "kernelspec": {
   "display_name": "Python 3",
   "language": "python",
   "name": "python3"
  },
  "language_info": {
   "codemirror_mode": {
    "name": "ipython",
    "version": 3
   },
   "file_extension": ".py",
   "mimetype": "text/x-python",
   "name": "python",
   "nbconvert_exporter": "python",
   "pygments_lexer": "ipython3",
   "version": "3.6.13"
  }
 },
 "nbformat": 4,
 "nbformat_minor": 5
}
